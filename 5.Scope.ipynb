{
 "cells": [
  {
   "cell_type": "markdown",
   "source": [
    "\n",
    "#函数的作用域指可操作范围，Python是静态作用域，也就是说在Python中，变量的作用域源于它在代码中的位置; 在不同的位置, 可能有不同的命名空间\n",
    "#Python-LEGB\n",
    "L-Local\n",
    "\t函数内的命名空间\n",
    "\t\t作用范围: 当前整个函数体范围\n",
    "E-Enclosing function locals\n",
    "\t外部嵌套函数的命名空间\n",
    "\t\t作用范围: 闭包函数\n",
    "G-Global\n",
    "\t全局命名空间\n",
    "\t\t作用范围: 当前模块(文件)\n",
    "B-Builtin\n",
    "\t内建模块命名空间\n",
    "\t\t作用范围: 所有模块(文件)\n",
    "注意\n",
    "\tPython中没有块级作用域\n",
    "\t块级作用域\n",
    "\t\t代码块中, 比如 if while for 后的代码块\n",
    "LEGB规则\n",
    "\t按照L -> E -> G -> B 的顺序进行查找"
   ],
   "metadata": {
    "collapsed": false
   },
   "id": "2e75c77819199473"
  },
  {
   "cell_type": "code",
   "outputs": [
    {
     "name": "stdout",
     "output_type": "stream",
     "text": [
      "2\n",
      "10\n",
      "2 1\n"
     ]
    }
   ],
   "source": [
    "#里面的可以访问外面的，外面的不能访问里面的，LEGB\n",
    "a = 999\n",
    "\n",
    "def test():\n",
    "    a = 1\n",
    "    a = 2\n",
    "    print(a)\n",
    "    def test2():\n",
    "        nonlocal a   #非局部的\n",
    "        a = 10\n",
    "        print(a)\n",
    "    test2()\n",
    "    print(a,1)\n",
    "\n",
    "test()"
   ],
   "metadata": {
    "collapsed": false,
    "ExecuteTime": {
     "end_time": "2024-04-08T02:35:55.928962Z",
     "start_time": "2024-04-08T02:35:55.924673Z"
    }
   },
   "id": "a407da094e1a057e",
   "execution_count": 6
  },
  {
   "cell_type": "markdown",
   "source": [
    "局部变量\n",
    "\t在一个函数内部定义的变量；\n",
    "\t作用域为函数内部\n",
    "\t查看局部变量\n",
    "\t\tlocals()\n",
    "全局变量\n",
    "\t在函数外部, 文件最外层定义的变量\n",
    "\t作用域为整个文件内部\n",
    "\t查看全局变量\n",
    "\t\tglobals()"
   ],
   "metadata": {
    "collapsed": false
   },
   "id": "f1988216612f6a92"
  },
  {
   "cell_type": "code",
   "outputs": [],
   "source": [
    "print(a)\n",
    "a = 999\n",
    "b = 10\n",
    "\n",
    "def test():\n",
    "    # 这里如果, 直接使用赋值表达式, 赋值给一个变量, 其实是代表,定义一个新的变量\n",
    "    global a\n",
    "    a = 6\n",
    "    print(a)\n",
    "    # def tes2():\n",
    "    #     nonlocal a\n",
    "    #     a = 77\n",
    "    b = 10\n",
    "    c = 0\n",
    "    print(locals())\n",
    "    print(globals())\n",
    "# print(a)\n",
    "test()\n",
    "# print(a)\n",
    "\n",
    "\n",
    "print(b)"
   ],
   "metadata": {
    "collapsed": false
   },
   "id": "f37b6c08efe3a312"
  },
  {
   "cell_type": "code",
   "outputs": [],
   "source": [
    "\n",
    "g_a = 1\n",
    "g_b = 10\n",
    "def test():\n",
    "    print(g_a)\n",
    "    print(g_b)\n",
    "\n",
    "test()\n"
   ],
   "metadata": {
    "collapsed": false
   },
   "id": "4a4095d5297b8fdf"
  }
 ],
 "metadata": {
  "kernelspec": {
   "display_name": "Python 3",
   "language": "python",
   "name": "python3"
  },
  "language_info": {
   "codemirror_mode": {
    "name": "ipython",
    "version": 2
   },
   "file_extension": ".py",
   "mimetype": "text/x-python",
   "name": "python",
   "nbconvert_exporter": "python",
   "pygments_lexer": "ipython2",
   "version": "2.7.6"
  }
 },
 "nbformat": 4,
 "nbformat_minor": 5
}
