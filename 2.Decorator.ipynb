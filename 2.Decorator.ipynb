{
 "cells": [
  {
   "cell_type": "code",
   "execution_count": 1,
   "id": "initial_id",
   "metadata": {
    "collapsed": true,
    "ExecuteTime": {
     "end_time": "2024-04-07T01:11:04.432045Z",
     "start_time": "2024-04-07T01:11:04.416708Z"
    }
   },
   "outputs": [
    {
     "name": "stdout",
     "output_type": "stream",
     "text": [
      "登录验证...\n",
      "发图片\n"
     ]
    }
   ],
   "source": [
    "# 定义两个功能函数\n",
    "def fss():\n",
    "    checkLogin()\n",
    "    print(\"发说说\")\n",
    "def ftp():\n",
    "    checkLogin()\n",
    "    print(\"发图片\")\n",
    "\n",
    "def checkLogin():\n",
    "    print(\"登录验证...\")\n",
    "\n",
    "# 相关的逻辑代码\n",
    "btnIndex = 2\n",
    "if btnIndex == 1:\n",
    "    fss()\n",
    "else:\n",
    "    ftp()\n",
    "# 发说说, 发图片, 必须有一个前提, 就是, 用户必须登录之后,\n",
    "# 登录验证的操作\n",
    "# 1. 直接在业务逻辑代码里面去修改, 添加一个验证操作\n",
    "# 因为业务逻辑代码非常多, 所以, 就造成了, 每一份, 逻辑代码, 在调用, 具体的功能函数之前, 都需要, 去做一个登录验证, 代码冗余度, 就比较大, 代码的复用性比较差, 代码的维护性比较差\n",
    "# 2, 直接在功能函数里面, 去修改, 方便代码的重用"
   ]
  },
  {
   "cell_type": "code",
   "outputs": [
    {
     "name": "stdout",
     "output_type": "stream",
     "text": [
      "登录验证...\n",
      "发说说\n"
     ]
    }
   ],
   "source": [
    "def checkLogin(func):\n",
    "    def inner():\n",
    "        print(\"登录验证...\")\n",
    "        func()\n",
    "    return inner\n",
    "# 定义两个功能函数\n",
    "@checkLogin\n",
    "def fss():\n",
    "    print(\"发说说\")\n",
    "# 语法糖 写法\n",
    "@checkLogin\n",
    "def ftp():\n",
    "    print(\"发图片\")\n",
    "# ftp = checkLogin(ftp)\n",
    "# 相关的逻辑代码\n",
    "btnIndex = 1\n",
    "if btnIndex == 1:\n",
    "    fss()\n",
    "else:\n",
    "    ftp()\n",
    "# 发说说, 发图片, 必须有一个前提, 就是, 用户必须登录之后,\n",
    "# 登录验证的操作\n",
    "# 1. 直接在业务逻辑代码里面去修改, 添加一个验证操作\n",
    "#   因为业务逻辑代码非常多, 所以, 就造成了, 每一份, 逻辑代码, 在调用, 具体的功能函数之前, 都需要, 去做一个登录验证, 代码冗余度, 就比较大, 代码的复用性比较差, 代码的维护性比较差\n",
    "# 2, 直接在功能函数里面, 去修改, 方便代码的重用"
   ],
   "metadata": {
    "collapsed": false,
    "ExecuteTime": {
     "end_time": "2024-04-07T01:11:18.668596Z",
     "start_time": "2024-04-07T01:11:18.662591Z"
    }
   },
   "id": "bd4efd5c57114b7e",
   "execution_count": 2
  },
  {
   "cell_type": "code",
   "outputs": [],
   "source": [
    " def check(func):\n",
    "    print(\"xxx\")\n",
    "    def inner():\n",
    "        print(\"登录验证操作....\")\n",
    "        func()\n",
    "    return inner\n",
    "\n",
    "@check\n",
    "def fss():\n",
    "    print(\"发说说\")\n",
    "# fss = check(fss)\n",
    "fss()"
   ],
   "metadata": {
    "collapsed": false
   },
   "id": "aa0f71e3b42653ad"
  },
  {
   "cell_type": "code",
   "outputs": [
    {
     "name": "stdout",
     "output_type": "stream",
     "text": [
      "---------------------------\n",
      "社会我顺哥, 人狠话不多\n"
     ]
    }
   ],
   "source": [
    "#装饰器叠加：# 加载顺序自下而上\n",
    "# @f1     # @f1  ====> index=warpper1(warpper2的内存地址)  ====>  index=warpper1的内存地址\n",
    "# @f2     # @f2  ====> index=warpper2(warpper3的内存地址)  ====>  index=warpper2的内存地址\n",
    "# @f3(3)  # @f3(3)  ====>   @outter   ====>  index=outter(index)  ====> index=warpper3的内存地址\n",
    "# 尖叫提示=======》  执行顺序 : 自上而下\n",
    "def zhuangshiqi_line(func):\n",
    "    def inner():\n",
    "        print(\"---------------------------\")\n",
    "        func()\n",
    "    return inner\n",
    "def zhuangshiqi_star(func):\n",
    "    def inner():\n",
    "        print(\"*\" * 30)\n",
    "        func()\n",
    "    return inner\n",
    "@zhuangshiqi_line # == print_content = zhuangshiqi_line(print_content)\n",
    "@zhuangshiqi_star # == print_content =  zhuangshiqi_star(print_content)\n",
    "# print(\"---------------------------\")\n",
    "# print(\"*\" * 30)\n",
    "# print(\"社会我顺哥, 人狠话不多\")\n",
    "def print_content():\n",
    "    print(\"社会我顺哥, 人狠话不多\")\n",
    "print_content()"
   ],
   "metadata": {
    "collapsed": false,
    "ExecuteTime": {
     "end_time": "2024-04-07T06:53:58.096679Z",
     "start_time": "2024-04-07T06:53:58.084080Z"
    }
   },
   "id": "ab05594590b93b94",
   "execution_count": 3
  },
  {
   "cell_type": "code",
   "outputs": [],
   "source": [
    "#对有参函数进行装饰无论什么场景, 保证函数调用参数个数一致，为了通用, 可以使用不定长参数, 结合拆包操作进行处理\n",
    "def zsq(func):\n",
    "    def inner(*args, **kwargs):\n",
    "        print(\"_\" * 30)\n",
    "        # print(args, kwargs)\n",
    "        func(*args, **kwargs)\n",
    "    return inner\n",
    "@zsq\n",
    "def pnum(num, num2, num3):\n",
    "    print(num, num2, num3)\n",
    "@zsq\n",
    "def pnum2(num):\n",
    "    print(num)\n",
    "pnum(123, 222, num3=666)\n",
    "pnum2(999)"
   ],
   "metadata": {
    "collapsed": false
   },
   "id": "6dd28b9b3130d94b"
  },
  {
   "cell_type": "code",
   "outputs": [
    {
     "name": "stdout",
     "output_type": "stream",
     "text": [
      "______________________________\n",
      "123 222 666\n",
      "______________________________\n",
      "999\n",
      "1011 None\n"
     ]
    }
   ],
   "source": [
    "#对有返回值的函数进行装饰\t无论什么场景, 保证函数返回值一致,经常使用不定长参数进行对应\n",
    "def zsq(func):\n",
    "    def inner(*args, **kwargs):\n",
    "        print(\"_\" * 30)\n",
    "        # print(args, kwargs)\n",
    "        res = func(*args, **kwargs)\n",
    "        return res\n",
    "    return inner\n",
    "@zsq\n",
    "def pnum(num, num2, num3):\n",
    "    print(num, num2, num3)\n",
    "    return num + num2 + num3\n",
    "@zsq\n",
    "def pnum2(num):\n",
    "    print(num)\n",
    "res1 = pnum(123, 222, num3=666)\n",
    "res2 = pnum2(999)\n",
    "print(res1, res2)"
   ],
   "metadata": {
    "collapsed": false,
    "ExecuteTime": {
     "end_time": "2024-04-07T07:46:15.811213Z",
     "start_time": "2024-04-07T07:46:15.806770Z"
    }
   },
   "id": "f7aa905c141ba780",
   "execution_count": 6
  },
  {
   "cell_type": "code",
   "outputs": [
    {
     "name": "stdout",
     "output_type": "stream",
     "text": [
      "******************************\n",
      "666\n"
     ]
    }
   ],
   "source": [
    "#带有参数的装饰器，通过@装饰器(参数)的方式, 调用这个函数, 并传递参数; 并把返回值, 再次当做装饰器进行使用，先计算 @ 后面的内容, 把这个内容当做是装饰器\n",
    "\n",
    "def getzsq(char):\n",
    "    def zsq(func):\n",
    "        def inner():\n",
    "            print(char * 30)\n",
    "            func()\n",
    "\n",
    "        return inner\n",
    "    return zsq\n",
    "@getzsq(\"*\") # f1 = zsq(f1)\n",
    "def f1():\n",
    "    print(\"666\")\n",
    "f1()\n",
    "# def zsqe(func):\n",
    "#     def inner():\n",
    "#         print(\"=\" * 30)\n",
    "#         func()\n",
    "#     return inner"
   ],
   "metadata": {
    "collapsed": false,
    "ExecuteTime": {
     "end_time": "2024-04-07T08:33:53.789778Z",
     "start_time": "2024-04-07T08:33:53.781293Z"
    }
   },
   "id": "2b8725beec4d88de",
   "execution_count": 7
  },
  {
   "cell_type": "markdown",
   "source": [
    "---------------------------------------------------------------------------------------------"
   ],
   "metadata": {
    "collapsed": false
   },
   "id": "a70df45f3dc9485c"
  },
  {
   "cell_type": "code",
   "outputs": [],
   "source": [],
   "metadata": {
    "collapsed": false
   },
   "id": "17988bcb4e8ed153"
  }
 ],
 "metadata": {
  "kernelspec": {
   "display_name": "Python 3",
   "language": "python",
   "name": "python3"
  },
  "language_info": {
   "codemirror_mode": {
    "name": "ipython",
    "version": 2
   },
   "file_extension": ".py",
   "mimetype": "text/x-python",
   "name": "python",
   "nbconvert_exporter": "python",
   "pygments_lexer": "ipython2",
   "version": "2.7.6"
  }
 },
 "nbformat": 4,
 "nbformat_minor": 5
}
