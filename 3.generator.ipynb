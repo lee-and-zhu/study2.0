{
 "cells": [
  {
   "cell_type": "code",
   "execution_count": null,
   "id": "initial_id",
   "metadata": {
    "collapsed": true
   },
   "outputs": [],
   "source": [
    "#生成器（特殊的迭代器）\n",
    "#创建方式：# l = [i for i in range(1, 10000000) if i % 2 == 0]   把列表推导式的大括号换成小括号\n",
    "l = (i for i in range(1, 10000000) if i % 2 == 0)\n",
    "print(next(l))\n",
    "print(next(l))\n",
    "print(l.__next__())\n",
    "#创建方式：函数中包含yield语句\n",
    "# yied, 可以去阻断当前的函数执行, 然后, 当使用next()函数, 或者, __next__(), 都会让函数继续执行, 然后, 当执行到下一个 yield语句的时候, 又会被暂停\n",
    "def test():\n",
    "    print(\"xxx\")\n",
    "    yield 1\n",
    "    print(\"a\")\n",
    "\n",
    "    yield 2\n",
    "    print(\"b\")\n",
    "\n",
    "    yield 3\n",
    "    print(\"c\")\n",
    "\n",
    "    yield 4\n",
    "    print(\"d\")\n",
    "\n",
    "    yield 5\n",
    "    print(\"e\")\n",
    "\n",
    "g = test()\n",
    "print(g)\n",
    "print(next(g))\n",
    "print(next(g))\n",
    "print(next(g))\n",
    "print(next(g))\n",
    "def test1():\n",
    "    for i in range(1, 9):\n",
    "        yield i\n",
    "g1 = test1()\n",
    "print(g1)\n",
    "print(next(g1))\n",
    "print(next(g1))\n",
    "print(next(g1))\n",
    "print(next(g1))\n"
   ]
  },
  {
   "cell_type": "markdown",
   "source": [
    "生成器具备可迭代特性\n",
    "next()函数\n",
    "\t等价于\n",
    "\t\t生成器.__next__()\n",
    "for in"
   ],
   "metadata": {
    "collapsed": false
   },
   "id": "dc5b57e046ab9d52"
  },
  {
   "cell_type": "code",
   "outputs": [
    {
     "name": "stdout",
     "output_type": "stream",
     "text": [
      "1\n",
      "666\n",
      "2\n"
     ]
    }
   ],
   "source": [
    "#send\n",
    "def test():\n",
    "    # print(\"xxx\")\n",
    "    res1 = yield 1 # \"ooo\"\n",
    "    print(res1)\n",
    "\n",
    "    res2 = yield 2\n",
    "    print(res2)\n",
    "\n",
    "g = test()\n",
    "#send方法有一个参数，指定的是上一次被挂起的yield语句的返回值\n",
    "#相比于.__next__(),可以额外的给yield 语句 传值,注意第一次调用,t.send(None)\n",
    "\n",
    "# print(g.__next__())#1\n",
    "# print(g.__next__())\n",
    "\n",
    "# print(g.__next__())#2\n",
    "# print(g.send(\"ooo\"))\n",
    "\n",
    "print(g.send(None))#3\n",
    "print(g.send(666))"
   ],
   "metadata": {
    "collapsed": false,
    "ExecuteTime": {
     "end_time": "2024-04-08T01:09:11.842548Z",
     "start_time": "2024-04-08T01:09:11.837341Z"
    }
   },
   "id": "7388f40080fbc569",
   "execution_count": 26
  },
  {
   "cell_type": "code",
   "outputs": [
    {
     "name": "stdout",
     "output_type": "stream",
     "text": [
      "1\n"
     ]
    },
    {
     "ename": "StopIteration",
     "evalue": "",
     "output_type": "error",
     "traceback": [
      "\u001B[1;31m---------------------------------------------------------------------------\u001B[0m",
      "\u001B[1;31mStopIteration\u001B[0m                             Traceback (most recent call last)",
      "Cell \u001B[1;32mIn[43], line 11\u001B[0m\n\u001B[0;32m      9\u001B[0m \u001B[38;5;28mprint\u001B[39m(g\u001B[38;5;241m.\u001B[39m\u001B[38;5;21m__next__\u001B[39m())\n\u001B[0;32m     10\u001B[0m g\u001B[38;5;241m.\u001B[39mclose()\n\u001B[1;32m---> 11\u001B[0m \u001B[38;5;28mprint\u001B[39m(\u001B[43mg\u001B[49m\u001B[38;5;241;43m.\u001B[39;49m\u001B[38;5;21;43m__next__\u001B[39;49m\u001B[43m(\u001B[49m\u001B[43m)\u001B[49m)\n\u001B[0;32m     12\u001B[0m g\u001B[38;5;241m.\u001B[39mclose()\n\u001B[0;32m     13\u001B[0m \u001B[38;5;66;03m#后续如果继续调用, 会抛出StopIteration异常提示\u001B[39;00m\n\u001B[0;32m     14\u001B[0m \u001B[38;5;66;03m# print(g.__next__())\u001B[39;00m\n\u001B[0;32m     15\u001B[0m \u001B[38;5;66;03m# print(g.__next__())\u001B[39;00m\n",
      "\u001B[1;31mStopIteration\u001B[0m: "
     ]
    }
   ],
   "source": [
    "#g.close()关闭生成器\n",
    "def test():\n",
    "    res1 = yield 1 \n",
    "    print(res1)\n",
    "\n",
    "    res2 = yield 2\n",
    "    print(res2)\n",
    "g=test()\n",
    "print(g.__next__())\n",
    "g.close()\n",
    "print(g.__next__())\n",
    "g.close()\n",
    "#后续如果继续调用, 会抛出StopIteration异常提示\n",
    "# print(g.__next__())\n",
    "# print(g.__next__())\n",
    "for i in g:#迭代器只能用一次\n",
    "    print(i)"
   ],
   "metadata": {
    "collapsed": false,
    "ExecuteTime": {
     "end_time": "2024-04-08T01:23:34.033009Z",
     "start_time": "2024-04-08T01:23:34.018895Z"
    }
   },
   "id": "911415ead4ba4790",
   "execution_count": 43
  },
  {
   "cell_type": "code",
   "outputs": [
    {
     "name": "stdout",
     "output_type": "stream",
     "text": [
      "1\n",
      "None\n"
     ]
    },
    {
     "ename": "StopIteration",
     "evalue": "10",
     "output_type": "error",
     "traceback": [
      "\u001B[1;31m---------------------------------------------------------------------------\u001B[0m",
      "\u001B[1;31mStopIteration\u001B[0m                             Traceback (most recent call last)",
      "Cell \u001B[1;32mIn[38], line 10\u001B[0m\n\u001B[0;32m      7\u001B[0m g\u001B[38;5;241m=\u001B[39mtest()\n\u001B[0;32m      8\u001B[0m \u001B[38;5;28mprint\u001B[39m(g\u001B[38;5;241m.\u001B[39m\u001B[38;5;21m__next__\u001B[39m())\n\u001B[1;32m---> 10\u001B[0m \u001B[38;5;28mprint\u001B[39m(\u001B[43mg\u001B[49m\u001B[38;5;241;43m.\u001B[39;49m\u001B[38;5;21;43m__next__\u001B[39;49m\u001B[43m(\u001B[49m\u001B[43m)\u001B[49m)\n",
      "\u001B[1;31mStopIteration\u001B[0m: 10"
     ]
    }
   ],
   "source": [
    "#如果碰到return会直接终止, 抛出StopIteration异常提示\n",
    "def test():\n",
    "    res1 = yield 1 \n",
    "    print(res1)\n",
    "    return 10\n",
    "    res2 = yield 2\n",
    "    print(res2)\n",
    "g=test()\n",
    "print(g.__next__())\n",
    "\n",
    "print(g.__next__())"
   ],
   "metadata": {
    "collapsed": false,
    "ExecuteTime": {
     "end_time": "2024-04-08T01:20:36.619675Z",
     "start_time": "2024-04-08T01:20:36.605423Z"
    }
   },
   "id": "6838c2638e4a4beb",
   "execution_count": 38
  }
 ],
 "metadata": {
  "kernelspec": {
   "display_name": "Python 3",
   "language": "python",
   "name": "python3"
  },
  "language_info": {
   "codemirror_mode": {
    "name": "ipython",
    "version": 2
   },
   "file_extension": ".py",
   "mimetype": "text/x-python",
   "name": "python",
   "nbconvert_exporter": "python",
   "pygments_lexer": "ipython2",
   "version": "2.7.6"
  }
 },
 "nbformat": 4,
 "nbformat_minor": 5
}
