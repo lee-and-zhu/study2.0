{
 "cells": [
  {
   "cell_type": "code",
   "execution_count": 1,
   "id": "initial_id",
   "metadata": {
    "collapsed": true,
    "ExecuteTime": {
     "end_time": "2024-04-08T01:51:59.029355Z",
     "start_time": "2024-04-08T01:51:59.021423Z"
    }
   },
   "outputs": [
    {
     "name": "stdout",
     "output_type": "stream",
     "text": [
      "120\n"
     ]
    }
   ],
   "source": [
    "#计算9！\n",
    "# 功能: 如果是不直接知道结果的数据, 就进行分解 9 9 * 8! 8 =\n",
    "# 如果说, 直接知道结果的数据, 就直接返回 1! = 1\n",
    "def f(n):\n",
    "    if n == 1:\n",
    "        return 1\n",
    "    # n != 1\n",
    "    return n * f(n - 1)\n",
    "\n",
    "result = f(5)\n",
    "print(result)"
   ]
  }
 ],
 "metadata": {
  "kernelspec": {
   "display_name": "Python 3",
   "language": "python",
   "name": "python3"
  },
  "language_info": {
   "codemirror_mode": {
    "name": "ipython",
    "version": 2
   },
   "file_extension": ".py",
   "mimetype": "text/x-python",
   "name": "python",
   "nbconvert_exporter": "python",
   "pygments_lexer": "ipython2",
   "version": "2.7.6"
  }
 },
 "nbformat": 4,
 "nbformat_minor": 5
}
