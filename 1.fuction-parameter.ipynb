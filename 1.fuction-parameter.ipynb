{
 "cells": [
  {
   "cell_type": "code",
   "execution_count": null,
   "id": "initial_id",
   "metadata": {
    "collapsed": true
   },
   "outputs": [],
   "source": [
    "#定义函数\n",
    "def f():\n",
    "    print(1)\n",
    "f()"
   ]
  },
  {
   "cell_type": "code",
   "outputs": [],
   "source": [
    "def f(a,b):\n",
    "    print(a+b)\n",
    "f(5,6)\n",
    "f(b=4,a=7)"
   ],
   "metadata": {
    "collapsed": false
   },
   "id": "cef89c94aa158f91",
   "execution_count": null
  },
  {
   "cell_type": "code",
   "outputs": [],
   "source": [
    "#加*表示不定长参数量（元组）\n",
    "def mySum(*t):\n",
    "    print(t, type(t))\n",
    "    result = 0\n",
    "    for v in t:\n",
    "        print(v)\n",
    "        result += v\n",
    "    print(result)\n",
    "\n",
    "mySum(4,5,6,7)\n"
   ],
   "metadata": {
    "collapsed": false
   },
   "id": "ac2b8d9d625efd96",
   "execution_count": null
  },
  {
   "cell_type": "code",
   "outputs": [],
   "source": [
    "#加**表示不定长参数量（字典）\n",
    "def mySum(**kwargs):\n",
    "    print(kwargs, type(kwargs))\n",
    "mySum(name=\"sz\", age=12)"
   ],
   "metadata": {
    "collapsed": false
   },
   "id": "83b13afb0a4dc650",
   "execution_count": null
  },
  {
   "cell_type": "code",
   "outputs": [
    {
     "name": "stdout",
     "output_type": "stream",
     "text": [
      "(1, 2, 3, 4)\n",
      "1 2 3 4\n",
      "10\n"
     ]
    }
   ],
   "source": [
    "#参数装包：把传递的参数，包装成一个集合\n",
    "#参数拆包：把集合参数拆为单独的个体\n",
    "def mySum(a, b, c, d):\n",
    "    print(a + b + c + d)\n",
    "\n",
    "\n",
    "def test(*args):\n",
    "    print(args)\n",
    "\n",
    "    # 拆包\n",
    "    print(*args)\n",
    "    # mySum((1, 2, 3, 4))\n",
    "    # mySum(args[0], args[1], args[2], args[3])\n",
    "    mySum(*args)\n",
    "test(1, 2, 3, 4)"
   ],
   "metadata": {
    "collapsed": false,
    "ExecuteTime": {
     "end_time": "2024-04-01T07:25:52.745808Z",
     "start_time": "2024-04-01T07:25:52.740425Z"
    }
   },
   "id": "22d1810c39a84d51",
   "execution_count": 8
  },
  {
   "cell_type": "code",
   "outputs": [
    {
     "name": "stdout",
     "output_type": "stream",
     "text": [
      "{'a': 1, 'b': 2}\n",
      "1\n",
      "2\n"
     ]
    }
   ],
   "source": [
    "def mysum(a,b):\n",
    "    print(a)\n",
    "    print(b)\n",
    "def f(**kwargs):\n",
    "    print(kwargs)\n",
    "    mysum(**kwargs)\n",
    "\n",
    "f(a=1,b=2)\n"
   ],
   "metadata": {
    "collapsed": false,
    "ExecuteTime": {
     "end_time": "2024-04-01T07:31:52.358300Z",
     "start_time": "2024-04-01T07:31:52.354039Z"
    }
   },
   "id": "3072fa1074b95c0b",
   "execution_count": 10
  },
  {
   "cell_type": "code",
   "outputs": [
    {
     "name": "stdout",
     "output_type": "stream",
     "text": [
      "(11, -1)\n",
      "Help on function f in module __main__:\n",
      "\n",
      "f(a, b)\n",
      "    这是说明书\n",
      "    :param a: \n",
      "    :param b: \n",
      "    :return:\n"
     ]
    }
   ],
   "source": [
    "#函数的返回值,说明书\n",
    "def f(a,b):\n",
    "    \"\"\"\n",
    "    这是说明书\n",
    "    :param a: \n",
    "    :param b: \n",
    "    :return: \n",
    "    \"\"\"\n",
    "    result=a+b\n",
    "    result1=a-b\n",
    "    return result,result1     #return后面的代码不会运行,只会返回一次\n",
    "res=f(5,6)\n",
    "print(res)\n",
    "help(f)"
   ],
   "metadata": {
    "collapsed": false,
    "ExecuteTime": {
     "end_time": "2024-04-04T07:58:21.881426Z",
     "start_time": "2024-04-04T07:58:21.877408Z"
    }
   },
   "id": "57ae837705c4cf63",
   "execution_count": 2
  },
  {
   "cell_type": "code",
   "outputs": [],
   "source": [
    "#函数的使用描述\n",
    "def print(self, *args, sep=' ', end='\\n', file=None): # known special case of print\n",
    "    \"\"\"\n",
    "    Prints the values to a stream, or to sys.stdout by default.\n",
    "    \n",
    "      sep\n",
    "        string inserted between values, default a space.\n",
    "      end\n",
    "        string appended after the last value, default a newline.\n",
    "      file\n",
    "        a file-like object (stream); defaults to the current sys.stdout.\n",
    "      flush\n",
    "        whether to forcibly flush the stream.\n",
    "    \"\"\"\n",
    "    pass\n"
   ],
   "metadata": {
    "collapsed": false
   },
   "id": "8f99c31376074f56"
  },
  {
   "cell_type": "code",
   "outputs": [
    {
     "name": "stdout",
     "output_type": "stream",
     "text": [
      "6\n",
      "11\n"
     ]
    }
   ],
   "source": [
    "#高级函数使用\n",
    "#偏函数，函数的某些值改变\n",
    "def f(a,b,c=2,d=3):\n",
    "    print(a+b+c+d)\n",
    "def f1(a,b,c=1,d=2):\n",
    "    f(a,b,c,d)\n",
    "f1(1,2)#注意其中c和d的值\n",
    "import functools\n",
    "f2=functools.partial(f,c=5)\n",
    "f2(1,2)\n",
    "#-------------------\n",
    "#numStr = \"100010\"\n",
    "# result = int(numStr, base=2)\n",
    "# print(result)\n",
    "#\n",
    "# # 在往后的一段时间内, 我都需要把一个二进制的字符串, 转换成为对应的十进制数据\n",
    "# import functools\n",
    "# int2 = functools.partial(int, base=2)\n",
    "# print(int2(numStr))"
   ],
   "metadata": {
    "collapsed": false,
    "ExecuteTime": {
     "end_time": "2024-04-04T08:15:30.933653Z",
     "start_time": "2024-04-04T08:15:30.927377Z"
    }
   },
   "id": "1343f70d76a82ac2",
   "execution_count": 5
  },
  {
   "cell_type": "code",
   "outputs": [],
   "source": [
    "#高阶函数，一个函数的参数为另一个函数（sorted）\n",
    "l = [{\"name\": \"sz\", \"age\": 18}, {\"name\": \"sz2\", \"age\": 19}, {\"name\": \"sz3\", \"age\": 18.5}]\n",
    "\n",
    "def getKey(x):\n",
    "    return x[\"name\"]\n",
    "\n",
    "result = sorted(l, key=getKey)\n",
    "print(result)\n"
   ],
   "metadata": {
    "collapsed": false
   },
   "id": "1bfdfad72853e714"
  },
  {
   "cell_type": "code",
   "outputs": [
    {
     "name": "stdout",
     "output_type": "stream",
     "text": [
      "3\n"
     ]
    }
   ],
   "source": [
    "def calculate(num1,num2,f):\n",
    "    print(f(num1,num2))\n",
    "def f(a,b):\n",
    "    return a+b\n",
    "calculate(1,2,f)"
   ],
   "metadata": {
    "collapsed": false,
    "ExecuteTime": {
     "end_time": "2024-04-04T09:02:39.695190Z",
     "start_time": "2024-04-04T09:02:39.691472Z"
    }
   },
   "id": "7026429de2c3a5dc",
   "execution_count": 7
  },
  {
   "cell_type": "code",
   "outputs": [],
   "source": [
    "#返回函数\n",
    "def getFunc(flag):\n",
    "    # 1. 再次定义几个函数\n",
    "    def sum(a, b, c):\n",
    "        return a + b + c\n",
    "    def jian(a, b, c):\n",
    "        return a - b - c\n",
    "\n",
    "    # 2. 根据不同的flag值, 来返回不同的操作函数\n",
    "    if flag == \"+\":\n",
    "        return sum\n",
    "    elif flag == \"-\":\n",
    "        return jian\n",
    "\n",
    "\n",
    "\n",
    "result = getFunc(\"-\")\n",
    "print(result, type(result))\n",
    "res = result(1, 3, 5)\n",
    "print(res)"
   ],
   "metadata": {
    "collapsed": false
   },
   "id": "f3db1ec6c1ae7654"
  },
  {
   "cell_type": "code",
   "outputs": [
    {
     "name": "stdout",
     "output_type": "stream",
     "text": [
      "8\n",
      "13\n"
     ]
    }
   ],
   "source": [
    "#匿名函数,也称为lambda函数\n",
    "result=(lambda a,b: a+b)(3,5)\n",
    "print(result)\n",
    "newf=lambda a,b: a+b\n",
    "print(newf(6,7))"
   ],
   "metadata": {
    "collapsed": false,
    "ExecuteTime": {
     "end_time": "2024-04-04T12:17:02.741852Z",
     "start_time": "2024-04-04T12:17:02.736431Z"
    }
   },
   "id": "c0abeed0d0ea6d80",
   "execution_count": 9
  },
  {
   "cell_type": "code",
   "outputs": [
    {
     "name": "stdout",
     "output_type": "stream",
     "text": [
      "9\n"
     ]
    }
   ],
   "source": [
    "#闭包：函数嵌套情况下，内层函数引用了外层函数的变量，外层函数又吧内层函数当做返回值\n",
    "def f1():\n",
    "    a=9\n",
    "    def f2():\n",
    "        print(a)\n",
    "    return f2()\n",
    "f1()\n",
    "\n",
    "#-------------------------------------\n",
    "def outer(x):\n",
    "    def inner(y):\n",
    "        return x + y\n",
    "    return inner\n",
    "\n",
    "print(outer(6)(5))"
   ],
   "metadata": {
    "collapsed": false,
    "ExecuteTime": {
     "end_time": "2024-04-04T12:28:36.744034Z",
     "start_time": "2024-04-04T12:28:36.740322Z"
    }
   },
   "id": "56233ff0185da717",
   "execution_count": 12
  },
  {
   "cell_type": "code",
   "outputs": [
    {
     "name": "stdout",
     "output_type": "stream",
     "text": [
      "--------------------闭包--------------------\n",
      "--------------------闭包--------------------\n"
     ]
    }
   ],
   "source": [
    "#案例，打印分割线\n",
    "def line(content,length):\n",
    "    def line1():\n",
    "        print(\"-\"*(length//2)+content+\"-\"*(length//2))\n",
    "    return line1    \n",
    "k=line(\"闭包\",40)\n",
    "k()\n",
    "k()\n",
    "k()"
   ],
   "metadata": {
    "collapsed": false,
    "ExecuteTime": {
     "end_time": "2024-04-04T12:39:16.166658Z",
     "start_time": "2024-04-04T12:39:16.162325Z"
    }
   },
   "id": "fb5159f91ce845d1",
   "execution_count": 22
  },
  {
   "cell_type": "code",
   "outputs": [
    {
     "name": "stdout",
     "output_type": "stream",
     "text": [
      "10\n",
      "666\n",
      "666\n",
      "666\n"
     ]
    }
   ],
   "source": [
    "#闭包中，假如要修改外层变量,为了防止歧义，一般用nonloca语句\n",
    "def test():\n",
    "    num = 10\n",
    "    def test2():\n",
    "        nonlocal num\n",
    "        num = 666\n",
    "        # print(a)\n",
    "        print(num)\n",
    "\n",
    "    print(num)\n",
    "    test2()\n",
    "    print(num)\n",
    "    return test2\n",
    "result = test()\n",
    "result()"
   ],
   "metadata": {
    "collapsed": false,
    "ExecuteTime": {
     "end_time": "2024-04-04T12:50:58.811625Z",
     "start_time": "2024-04-04T12:50:58.807888Z"
    }
   },
   "id": "38799432e496ff11",
   "execution_count": 25
  },
  {
   "cell_type": "code",
   "outputs": [
    {
     "name": "stdout",
     "output_type": "stream",
     "text": [
      "2\n"
     ]
    }
   ],
   "source": [
    "#当闭包内，引用了一个后期会发生变化的量\n",
    "\n",
    "def test():\n",
    "    a = 1\n",
    "    def test2():\n",
    "        print(a)\n",
    "    a = 2\n",
    "\n",
    "    # a = 2输出\n",
    "\n",
    "    return test2\n",
    "\n",
    "newFunc = test()\n",
    "newFunc()\n",
    "\n",
    "# 函数, 什么时候,才会确定, 内部, 变量标识, 对应的值\n",
    "# 当函数被调用的时候, 才会真正的确定, 对应的值, 到底是什么, 之前,, 都是以普通的变量标识名称而存在"
   ],
   "metadata": {
    "collapsed": false,
    "ExecuteTime": {
     "end_time": "2024-04-04T12:59:07.481043Z",
     "start_time": "2024-04-04T12:59:07.476814Z"
    }
   },
   "id": "593c6caf531932fc",
   "execution_count": 26
  },
  {
   "cell_type": "code",
   "outputs": [],
   "source": [
    "def test():\n",
    "    funcs = []\n",
    "    for i in range(1, 4):\n",
    "        def test2(num):\n",
    "            # num = 1\n",
    "            def inner():\n",
    "                print(num)\n",
    "            return inner\n",
    "        funcs.append(test2(i))\n",
    "    return funcs\n",
    "\n",
    "newFuncs = test()\n",
    "\n",
    "print(newFuncs)\n",
    "\n",
    "newFuncs[0]()\n",
    "newFuncs[1]()\n",
    "newFuncs[2]()"
   ],
   "metadata": {
    "collapsed": false
   },
   "id": "ff4d7c2b14cdd534"
  },
  {
   "cell_type": "code",
   "outputs": [],
   "source": [],
   "metadata": {
    "collapsed": false
   },
   "id": "6dd3ff7f14300a4e"
  }
 ],
 "metadata": {
  "kernelspec": {
   "display_name": "Python 3",
   "language": "python",
   "name": "python3"
  },
  "language_info": {
   "codemirror_mode": {
    "name": "ipython",
    "version": 2
   },
   "file_extension": ".py",
   "mimetype": "text/x-python",
   "name": "python",
   "nbconvert_exporter": "python",
   "pygments_lexer": "ipython2",
   "version": "2.7.6"
  }
 },
 "nbformat": 4,
 "nbformat_minor": 5
}
